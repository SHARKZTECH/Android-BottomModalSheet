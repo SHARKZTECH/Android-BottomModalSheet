{
  "cells": [
    {
      "cell_type": "markdown",
      "metadata": {
        "id": "view-in-github",
        "colab_type": "text"
      },
      "source": [
        "<a href=\"https://colab.research.google.com/github/SHARKZTECH/Android-BottomModalSheet/blob/master/stable_diffusion.ipynb\" target=\"_parent\"><img src=\"https://colab.research.google.com/assets/colab-badge.svg\" alt=\"Open In Colab\"/></a>"
      ]
    },
    {
      "cell_type": "code",
      "source": [
        "import torch\n",
        "\n",
        "if torch.cuda.is_available():\n",
        "    print(\"CUDA is available on your system.\")\n",
        "    print(\"You have a CUDA-enabled GPU.\")\n",
        "else:\n",
        "    print(\"CUDA is not available on your system.\")\n",
        "    print(\"You can only run computations on the CPU.\")\n"
      ],
      "metadata": {
        "id": "rHROwI3VGJp4"
      },
      "execution_count": null,
      "outputs": []
    },
    {
      "cell_type": "code",
      "execution_count": null,
      "metadata": {
        "colab": {
          "base_uri": "https://localhost:8080/"
        },
        "id": "-hWX0ueJ6GwJ",
        "outputId": "1c17918a-3f03-4a1b-9e7f-14247a1cd61d"
      },
      "outputs": [
        {
          "output_type": "stream",
          "name": "stderr",
          "text": [
            "Cannot initialize model with low cpu memory usage because `accelerate` was not found in the environment. Defaulting to `low_cpu_mem_usage=False`. It is strongly recommended to install `accelerate` for faster and less memory-intense model loading. You can do so with: \n",
            "```\n",
            "pip install accelerate\n",
            "```\n",
            ".\n",
            "`text_config_dict` is provided which will be used to initialize `CLIPTextConfig`. The value `text_config[\"id2label\"]` will be overriden.\n",
            "`text_config_dict` is provided which will be used to initialize `CLIPTextConfig`. The value `text_config[\"bos_token_id\"]` will be overriden.\n",
            "`text_config_dict` is provided which will be used to initialize `CLIPTextConfig`. The value `text_config[\"eos_token_id\"]` will be overriden.\n"
          ]
        }
      ],
      "source": [
        "from diffusers import StableDiffusionPipeline\n",
        "import torch\n",
        "from PIL import Image\n",
        "from IPython.display import display\n",
        "\n",
        "model_id = \"runwayml/stable-diffusion-v1-5\"\n",
        "pipe = StableDiffusionPipeline.from_pretrained(model_id, torch_dtype=torch.float32)\n",
        "pipe = pipe.to(\"cuda\")\n",
        "\n",
        "while True:\n",
        "    # Get user input\n",
        "    prompt = input(\"Enter a description (Type 'exit' to quit): \")\n",
        "\n",
        "    if prompt.lower() in [\"exit\", \"quit\"]:\n",
        "        print(\"Exiting the program.\")\n",
        "        break\n",
        "\n",
        "    # Generate the image\n",
        "    image = pipe(prompt).images[0]\n",
        "\n",
        "    # Save the image locally\n",
        "    # image_path = \"astronaut_rides_horse.png\"\n",
        "    # image.save(image_path)\n",
        "\n",
        "    # Display the image in the notebook\n",
        "    display(image)\n",
        "\n",
        "# Note: Commented out the image saving part to avoid cluttering the disk with images while testing in Colab.\n",
        "# If you want to save images, you can uncomment the image saving code.\n",
        "\n"
      ]
    },
    {
      "cell_type": "code",
      "execution_count": null,
      "metadata": {
        "id": "zYvxIebF-rGY"
      },
      "outputs": [],
      "source": []
    }
  ],
  "metadata": {
    "colab": {
      "provenance": [],
      "gpuType": "T4",
      "authorship_tag": "ABX9TyP22S38Ns6xQHzA2cmxwR4H",
      "include_colab_link": true
    },
    "kernelspec": {
      "display_name": "Python 3",
      "name": "python3"
    },
    "language_info": {
      "name": "python"
    },
    "accelerator": "GPU"
  },
  "nbformat": 4,
  "nbformat_minor": 0
}